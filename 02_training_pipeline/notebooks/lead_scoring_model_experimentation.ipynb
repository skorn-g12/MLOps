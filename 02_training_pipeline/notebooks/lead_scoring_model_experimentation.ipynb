{
 "cells": [
  {
   "cell_type": "markdown",
   "metadata": {
    "tags": []
   },
   "source": [
    "### 1 : Importing Libraries"
   ]
  },
  {
   "cell_type": "code",
   "execution_count": 1,
   "metadata": {
    "id": "AWb_Pph5GRXm",
    "tags": []
   },
   "outputs": [],
   "source": [
    "# ignore the warnings in the output\n",
    "import warnings\n",
    "warnings.filterwarnings(\"ignore\")"
   ]
  },
  {
   "cell_type": "code",
   "execution_count": 2,
   "metadata": {
    "tags": []
   },
   "outputs": [],
   "source": [
    "# import libraries and packages\n",
    "import numpy as np\n",
    "import pandas as pd \n",
    "import matplotlib.pyplot as plt\n",
    "import mlflow\n",
    "from pycaret.classification import *"
   ]
  },
  {
   "cell_type": "markdown",
   "metadata": {
    "tags": []
   },
   "source": [
    " ### 2 Reading Data"
   ]
  },
  {
   "cell_type": "code",
   "execution_count": 3,
   "metadata": {
    "tags": []
   },
   "outputs": [
    {
     "name": "stdout",
     "output_type": "stream",
     "text": [
      "CPU times: user 1e+03 ns, sys: 0 ns, total: 1e+03 ns\n",
      "Wall time: 4.05 µs\n"
     ]
    }
   ],
   "source": [
    "##Copy the cleaned data obtained from the data_cleaning notebook into the Data folder before proceeding\n",
    "%time\n",
    "dataset = pd.read_csv('Data/cleaned_data.csv')"
   ]
  },
  {
   "cell_type": "code",
   "execution_count": 4,
   "metadata": {
    "tags": []
   },
   "outputs": [
    {
     "data": {
      "text/html": [
       "<div>\n",
       "<style scoped>\n",
       "    .dataframe tbody tr th:only-of-type {\n",
       "        vertical-align: middle;\n",
       "    }\n",
       "\n",
       "    .dataframe tbody tr th {\n",
       "        vertical-align: top;\n",
       "    }\n",
       "\n",
       "    .dataframe thead th {\n",
       "        text-align: right;\n",
       "    }\n",
       "</style>\n",
       "<table border=\"1\" class=\"dataframe\">\n",
       "  <thead>\n",
       "    <tr style=\"text-align: right;\">\n",
       "      <th></th>\n",
       "      <th>created_date</th>\n",
       "      <th>city_tier</th>\n",
       "      <th>first_platform_c</th>\n",
       "      <th>first_utm_medium_c</th>\n",
       "      <th>first_utm_source_c</th>\n",
       "      <th>total_leads_droppped</th>\n",
       "      <th>referred_lead</th>\n",
       "      <th>app_complete_flag</th>\n",
       "      <th>assistance_interaction</th>\n",
       "      <th>career_interaction</th>\n",
       "      <th>payment_interaction</th>\n",
       "      <th>social_interaction</th>\n",
       "      <th>syllabus_interaction</th>\n",
       "    </tr>\n",
       "  </thead>\n",
       "  <tbody>\n",
       "    <tr>\n",
       "      <th>0</th>\n",
       "      <td>2021-07-01 00:08:15</td>\n",
       "      <td>1.0</td>\n",
       "      <td>Level0</td>\n",
       "      <td>Level11</td>\n",
       "      <td>Level2</td>\n",
       "      <td>1.0</td>\n",
       "      <td>0.0</td>\n",
       "      <td>1</td>\n",
       "      <td>0.0</td>\n",
       "      <td>0.0</td>\n",
       "      <td>0.0</td>\n",
       "      <td>0.0</td>\n",
       "      <td>0.0</td>\n",
       "    </tr>\n",
       "    <tr>\n",
       "      <th>1</th>\n",
       "      <td>2021-07-01 00:16:43</td>\n",
       "      <td>2.0</td>\n",
       "      <td>Level3</td>\n",
       "      <td>Level0</td>\n",
       "      <td>others</td>\n",
       "      <td>1.0</td>\n",
       "      <td>0.0</td>\n",
       "      <td>1</td>\n",
       "      <td>0.0</td>\n",
       "      <td>0.0</td>\n",
       "      <td>0.0</td>\n",
       "      <td>0.0</td>\n",
       "      <td>0.0</td>\n",
       "    </tr>\n",
       "    <tr>\n",
       "      <th>2</th>\n",
       "      <td>2021-07-01 00:22:20</td>\n",
       "      <td>1.0</td>\n",
       "      <td>Level3</td>\n",
       "      <td>Level0</td>\n",
       "      <td>Level0</td>\n",
       "      <td>1.0</td>\n",
       "      <td>0.0</td>\n",
       "      <td>1</td>\n",
       "      <td>0.0</td>\n",
       "      <td>0.0</td>\n",
       "      <td>0.0</td>\n",
       "      <td>0.0</td>\n",
       "      <td>0.0</td>\n",
       "    </tr>\n",
       "    <tr>\n",
       "      <th>3</th>\n",
       "      <td>2021-07-01 00:23:13</td>\n",
       "      <td>1.0</td>\n",
       "      <td>Level1</td>\n",
       "      <td>Level3</td>\n",
       "      <td>others</td>\n",
       "      <td>2.0</td>\n",
       "      <td>0.0</td>\n",
       "      <td>0</td>\n",
       "      <td>0.0</td>\n",
       "      <td>0.0</td>\n",
       "      <td>0.0</td>\n",
       "      <td>0.0</td>\n",
       "      <td>0.0</td>\n",
       "    </tr>\n",
       "    <tr>\n",
       "      <th>4</th>\n",
       "      <td>2021-07-01 00:28:38</td>\n",
       "      <td>1.0</td>\n",
       "      <td>Level3</td>\n",
       "      <td>Level0</td>\n",
       "      <td>Level0</td>\n",
       "      <td>1.0</td>\n",
       "      <td>0.0</td>\n",
       "      <td>0</td>\n",
       "      <td>0.0</td>\n",
       "      <td>0.0</td>\n",
       "      <td>0.0</td>\n",
       "      <td>0.0</td>\n",
       "      <td>0.0</td>\n",
       "    </tr>\n",
       "  </tbody>\n",
       "</table>\n",
       "</div>"
      ],
      "text/plain": [
       "          created_date  city_tier first_platform_c first_utm_medium_c  \\\n",
       "0  2021-07-01 00:08:15        1.0           Level0            Level11   \n",
       "1  2021-07-01 00:16:43        2.0           Level3             Level0   \n",
       "2  2021-07-01 00:22:20        1.0           Level3             Level0   \n",
       "3  2021-07-01 00:23:13        1.0           Level1             Level3   \n",
       "4  2021-07-01 00:28:38        1.0           Level3             Level0   \n",
       "\n",
       "  first_utm_source_c  total_leads_droppped  referred_lead  app_complete_flag  \\\n",
       "0             Level2                   1.0            0.0                  1   \n",
       "1             others                   1.0            0.0                  1   \n",
       "2             Level0                   1.0            0.0                  1   \n",
       "3             others                   2.0            0.0                  0   \n",
       "4             Level0                   1.0            0.0                  0   \n",
       "\n",
       "   assistance_interaction  career_interaction  payment_interaction  \\\n",
       "0                     0.0                 0.0                  0.0   \n",
       "1                     0.0                 0.0                  0.0   \n",
       "2                     0.0                 0.0                  0.0   \n",
       "3                     0.0                 0.0                  0.0   \n",
       "4                     0.0                 0.0                  0.0   \n",
       "\n",
       "   social_interaction  syllabus_interaction  \n",
       "0                 0.0                   0.0  \n",
       "1                 0.0                   0.0  \n",
       "2                 0.0                   0.0  \n",
       "3                 0.0                   0.0  \n",
       "4                 0.0                   0.0  "
      ]
     },
     "execution_count": 4,
     "metadata": {},
     "output_type": "execute_result"
    }
   ],
   "source": [
    "dataset.head()"
   ]
  },
  {
   "cell_type": "code",
   "execution_count": 5,
   "metadata": {
    "tags": []
   },
   "outputs": [],
   "source": [
    "# drop the data column as it is not needed for training\n",
    "dataset = dataset.drop(['created_date'], axis=1)"
   ]
  },
  {
   "cell_type": "markdown",
   "metadata": {
    "tags": []
   },
   "source": [
    "### 3 Setting up Environment: "
   ]
  },
  {
   "cell_type": "code",
   "execution_count": 6,
   "metadata": {
    "tags": []
   },
   "outputs": [],
   "source": [
    "# create a connection and setup a SQLite database with the name \"lead_scoring_model_experimentation.db\" in \n",
    "# 'Assignment/02_training_pipeline/notebooks/' location"
   ]
  },
  {
   "cell_type": "code",
   "execution_count": 7,
   "metadata": {
    "tags": []
   },
   "outputs": [
    {
     "data": {
      "text/plain": [
       "'\\nNow you need to start the MLflow server in a new terminal. \\nNote: Before you start the MLflow server, create a folder named mlruns in the assignment directory.\\nNow you need to run the command to start MLflow server such that:\\n1. The lead_scoring_model_experimentation.db which you created above is used as the backend-store.\\n2. mlruns folder is used as an artifact directory. \\n3. The server runs on the port 6006.\\n\\nThe steps to do so are as follows:\\nOpen a new terminal.\\nThen go to the Assignment directory using the cd command. Type the command: cd Assignment/\\nCreate a folder named mlruns here. You can create this folder using either the command line or GUI. To create this folder via the command line run the command: mkdir ./mlruns\\nThen, type the following command to start the MLflow server: \\nmlflow server --backend-store-uri=\\'sqlite:///./02_training_pipeline/notebooks/lead_scoring_model_experimentation.db\\' --default-artifact-root=\"./mlruns\" --port=6006 --host=0.0.0.0\\n'"
      ]
     },
     "execution_count": 7,
     "metadata": {},
     "output_type": "execute_result"
    }
   ],
   "source": [
    "'''\n",
    "Now you need to start the MLflow server in a new terminal. \n",
    "Note: Before you start the MLflow server, create a folder named mlruns in the assignment directory.\n",
    "Now you need to run the command to start MLflow server such that:\n",
    "1. The lead_scoring_model_experimentation.db which you created above is used as the backend-store.\n",
    "2. mlruns folder is used as an artifact directory. \n",
    "3. The server runs on the port 6006.\n",
    "\n",
    "The steps to do so are as follows:\n",
    "Open a new terminal.\n",
    "Then go to the Assignment directory using the cd command. Type the command: cd Assignment/\n",
    "Create a folder named mlruns here. You can create this folder using either the command line or GUI. To create this folder via the command line run the command: mkdir ./mlruns\n",
    "Then, type the following command to start the MLflow server: \n",
    "mlflow server --backend-store-uri='sqlite:///./02_training_pipeline/notebooks/lead_scoring_model_experimentation.db' --default-artifact-root=\"./mlruns\" --port=6006 --host=0.0.0.0\n",
    "'''"
   ]
  },
  {
   "cell_type": "code",
   "execution_count": 8,
   "metadata": {},
   "outputs": [],
   "source": [
    "# Once, your server is successfully running, create a mlflow tracking uri at \"http://0.0.0.0:6006\""
   ]
  },
  {
   "cell_type": "code",
   "execution_count": 13,
   "metadata": {
    "tags": []
   },
   "outputs": [],
   "source": [
    "mlflow.set_tracking_uri(\"http://0.0.0.0:6006\")"
   ]
  },
  {
   "cell_type": "code",
   "execution_count": 14,
   "metadata": {
    "tags": []
   },
   "outputs": [],
   "source": [
    "# No Pre-Processing "
   ]
  },
  {
   "cell_type": "markdown",
   "metadata": {
    "tags": []
   },
   "source": [
    "### 4 : Model Experimentation with pycaret"
   ]
  },
  {
   "cell_type": "code",
   "execution_count": 11,
   "metadata": {},
   "outputs": [],
   "source": [
    "# create a experimentation with pycaret and exclude ['gbc','knn','qda', 'dummy', 'svm', 'ada']"
   ]
  },
  {
   "cell_type": "code",
   "execution_count": 12,
   "metadata": {
    "tags": []
   },
   "outputs": [],
   "source": [
    "exclude_models = ['gbc', 'knn', 'qda', 'dummy', 'svm', 'ada']"
   ]
  },
  {
   "cell_type": "code",
   "execution_count": 15,
   "metadata": {
    "tags": []
   },
   "outputs": [
    {
     "data": {
      "text/html": [
       "<style type=\"text/css\">\n",
       "#T_0fa26_row9_col1 {\n",
       "  background-color: lightgreen;\n",
       "}\n",
       "</style>\n",
       "<table id=\"T_0fa26\">\n",
       "  <thead>\n",
       "    <tr>\n",
       "      <th class=\"blank level0\" >&nbsp;</th>\n",
       "      <th id=\"T_0fa26_level0_col0\" class=\"col_heading level0 col0\" >Description</th>\n",
       "      <th id=\"T_0fa26_level0_col1\" class=\"col_heading level0 col1\" >Value</th>\n",
       "    </tr>\n",
       "  </thead>\n",
       "  <tbody>\n",
       "    <tr>\n",
       "      <th id=\"T_0fa26_level0_row0\" class=\"row_heading level0 row0\" >0</th>\n",
       "      <td id=\"T_0fa26_row0_col0\" class=\"data row0 col0\" >Session id</td>\n",
       "      <td id=\"T_0fa26_row0_col1\" class=\"data row0 col1\" >42</td>\n",
       "    </tr>\n",
       "    <tr>\n",
       "      <th id=\"T_0fa26_level0_row1\" class=\"row_heading level0 row1\" >1</th>\n",
       "      <td id=\"T_0fa26_row1_col0\" class=\"data row1 col0\" >Target</td>\n",
       "      <td id=\"T_0fa26_row1_col1\" class=\"data row1 col1\" >app_complete_flag</td>\n",
       "    </tr>\n",
       "    <tr>\n",
       "      <th id=\"T_0fa26_level0_row2\" class=\"row_heading level0 row2\" >2</th>\n",
       "      <td id=\"T_0fa26_row2_col0\" class=\"data row2 col0\" >Target type</td>\n",
       "      <td id=\"T_0fa26_row2_col1\" class=\"data row2 col1\" >Binary</td>\n",
       "    </tr>\n",
       "    <tr>\n",
       "      <th id=\"T_0fa26_level0_row3\" class=\"row_heading level0 row3\" >3</th>\n",
       "      <td id=\"T_0fa26_row3_col0\" class=\"data row3 col0\" >Original data shape</td>\n",
       "      <td id=\"T_0fa26_row3_col1\" class=\"data row3 col1\" >(238964, 12)</td>\n",
       "    </tr>\n",
       "    <tr>\n",
       "      <th id=\"T_0fa26_level0_row4\" class=\"row_heading level0 row4\" >4</th>\n",
       "      <td id=\"T_0fa26_row4_col0\" class=\"data row4 col0\" >Transformed data shape</td>\n",
       "      <td id=\"T_0fa26_row4_col1\" class=\"data row4 col1\" >(238964, 44)</td>\n",
       "    </tr>\n",
       "    <tr>\n",
       "      <th id=\"T_0fa26_level0_row5\" class=\"row_heading level0 row5\" >5</th>\n",
       "      <td id=\"T_0fa26_row5_col0\" class=\"data row5 col0\" >Transformed train set shape</td>\n",
       "      <td id=\"T_0fa26_row5_col1\" class=\"data row5 col1\" >(167274, 44)</td>\n",
       "    </tr>\n",
       "    <tr>\n",
       "      <th id=\"T_0fa26_level0_row6\" class=\"row_heading level0 row6\" >6</th>\n",
       "      <td id=\"T_0fa26_row6_col0\" class=\"data row6 col0\" >Transformed test set shape</td>\n",
       "      <td id=\"T_0fa26_row6_col1\" class=\"data row6 col1\" >(71690, 44)</td>\n",
       "    </tr>\n",
       "    <tr>\n",
       "      <th id=\"T_0fa26_level0_row7\" class=\"row_heading level0 row7\" >7</th>\n",
       "      <td id=\"T_0fa26_row7_col0\" class=\"data row7 col0\" >Numeric features</td>\n",
       "      <td id=\"T_0fa26_row7_col1\" class=\"data row7 col1\" >8</td>\n",
       "    </tr>\n",
       "    <tr>\n",
       "      <th id=\"T_0fa26_level0_row8\" class=\"row_heading level0 row8\" >8</th>\n",
       "      <td id=\"T_0fa26_row8_col0\" class=\"data row8 col0\" >Categorical features</td>\n",
       "      <td id=\"T_0fa26_row8_col1\" class=\"data row8 col1\" >3</td>\n",
       "    </tr>\n",
       "    <tr>\n",
       "      <th id=\"T_0fa26_level0_row9\" class=\"row_heading level0 row9\" >9</th>\n",
       "      <td id=\"T_0fa26_row9_col0\" class=\"data row9 col0\" >Preprocess</td>\n",
       "      <td id=\"T_0fa26_row9_col1\" class=\"data row9 col1\" >True</td>\n",
       "    </tr>\n",
       "    <tr>\n",
       "      <th id=\"T_0fa26_level0_row10\" class=\"row_heading level0 row10\" >10</th>\n",
       "      <td id=\"T_0fa26_row10_col0\" class=\"data row10 col0\" >Imputation type</td>\n",
       "      <td id=\"T_0fa26_row10_col1\" class=\"data row10 col1\" >simple</td>\n",
       "    </tr>\n",
       "    <tr>\n",
       "      <th id=\"T_0fa26_level0_row11\" class=\"row_heading level0 row11\" >11</th>\n",
       "      <td id=\"T_0fa26_row11_col0\" class=\"data row11 col0\" >Numeric imputation</td>\n",
       "      <td id=\"T_0fa26_row11_col1\" class=\"data row11 col1\" >mean</td>\n",
       "    </tr>\n",
       "    <tr>\n",
       "      <th id=\"T_0fa26_level0_row12\" class=\"row_heading level0 row12\" >12</th>\n",
       "      <td id=\"T_0fa26_row12_col0\" class=\"data row12 col0\" >Categorical imputation</td>\n",
       "      <td id=\"T_0fa26_row12_col1\" class=\"data row12 col1\" >mode</td>\n",
       "    </tr>\n",
       "    <tr>\n",
       "      <th id=\"T_0fa26_level0_row13\" class=\"row_heading level0 row13\" >13</th>\n",
       "      <td id=\"T_0fa26_row13_col0\" class=\"data row13 col0\" >Maximum one-hot encoding</td>\n",
       "      <td id=\"T_0fa26_row13_col1\" class=\"data row13 col1\" >25</td>\n",
       "    </tr>\n",
       "    <tr>\n",
       "      <th id=\"T_0fa26_level0_row14\" class=\"row_heading level0 row14\" >14</th>\n",
       "      <td id=\"T_0fa26_row14_col0\" class=\"data row14 col0\" >Encoding method</td>\n",
       "      <td id=\"T_0fa26_row14_col1\" class=\"data row14 col1\" >None</td>\n",
       "    </tr>\n",
       "    <tr>\n",
       "      <th id=\"T_0fa26_level0_row15\" class=\"row_heading level0 row15\" >15</th>\n",
       "      <td id=\"T_0fa26_row15_col0\" class=\"data row15 col0\" >Fold Generator</td>\n",
       "      <td id=\"T_0fa26_row15_col1\" class=\"data row15 col1\" >StratifiedKFold</td>\n",
       "    </tr>\n",
       "    <tr>\n",
       "      <th id=\"T_0fa26_level0_row16\" class=\"row_heading level0 row16\" >16</th>\n",
       "      <td id=\"T_0fa26_row16_col0\" class=\"data row16 col0\" >Fold Number</td>\n",
       "      <td id=\"T_0fa26_row16_col1\" class=\"data row16 col1\" >10</td>\n",
       "    </tr>\n",
       "    <tr>\n",
       "      <th id=\"T_0fa26_level0_row17\" class=\"row_heading level0 row17\" >17</th>\n",
       "      <td id=\"T_0fa26_row17_col0\" class=\"data row17 col0\" >CPU Jobs</td>\n",
       "      <td id=\"T_0fa26_row17_col1\" class=\"data row17 col1\" >-1</td>\n",
       "    </tr>\n",
       "    <tr>\n",
       "      <th id=\"T_0fa26_level0_row18\" class=\"row_heading level0 row18\" >18</th>\n",
       "      <td id=\"T_0fa26_row18_col0\" class=\"data row18 col0\" >Use GPU</td>\n",
       "      <td id=\"T_0fa26_row18_col1\" class=\"data row18 col1\" >False</td>\n",
       "    </tr>\n",
       "    <tr>\n",
       "      <th id=\"T_0fa26_level0_row19\" class=\"row_heading level0 row19\" >19</th>\n",
       "      <td id=\"T_0fa26_row19_col0\" class=\"data row19 col0\" >Log Experiment</td>\n",
       "      <td id=\"T_0fa26_row19_col1\" class=\"data row19 col1\" >MlflowLogger</td>\n",
       "    </tr>\n",
       "    <tr>\n",
       "      <th id=\"T_0fa26_level0_row20\" class=\"row_heading level0 row20\" >20</th>\n",
       "      <td id=\"T_0fa26_row20_col0\" class=\"data row20 col0\" >Experiment Name</td>\n",
       "      <td id=\"T_0fa26_row20_col1\" class=\"data row20 col1\" >Baseline_model_exp01</td>\n",
       "    </tr>\n",
       "    <tr>\n",
       "      <th id=\"T_0fa26_level0_row21\" class=\"row_heading level0 row21\" >21</th>\n",
       "      <td id=\"T_0fa26_row21_col0\" class=\"data row21 col0\" >USI</td>\n",
       "      <td id=\"T_0fa26_row21_col1\" class=\"data row21 col1\" >cbc2</td>\n",
       "    </tr>\n",
       "  </tbody>\n",
       "</table>\n"
      ],
      "text/plain": [
       "<pandas.io.formats.style.Styler at 0x7fc8ff22b760>"
      ]
     },
     "metadata": {},
     "output_type": "display_data"
    }
   ],
   "source": [
    "Baseline_model_exp01 = setup(data = dataset, target = 'app_complete_flag', \n",
    "                   session_id = 42,fix_imbalance=False,\n",
    "                   n_jobs=-1,\n",
    "                   log_experiment=True,experiment_name='Baseline_model_exp01',\n",
    "                   log_plots=True, log_data=True,verbose=True,\n",
    "                   log_profile=False)"
   ]
  },
  {
   "cell_type": "code",
   "execution_count": 16,
   "metadata": {},
   "outputs": [],
   "source": [
    "# create a model which gives the highest accuracy"
   ]
  },
  {
   "cell_type": "code",
   "execution_count": 17,
   "metadata": {
    "tags": []
   },
   "outputs": [
    {
     "data": {
      "text/html": [],
      "text/plain": [
       "<IPython.core.display.HTML object>"
      ]
     },
     "metadata": {},
     "output_type": "display_data"
    },
    {
     "data": {
      "text/html": [
       "<style type=\"text/css\">\n",
       "#T_5494c th {\n",
       "  text-align: left;\n",
       "}\n",
       "#T_5494c_row0_col0, #T_5494c_row0_col3, #T_5494c_row0_col4, #T_5494c_row1_col0, #T_5494c_row1_col1, #T_5494c_row1_col3, #T_5494c_row1_col4, #T_5494c_row1_col5, #T_5494c_row1_col6, #T_5494c_row1_col7, #T_5494c_row2_col0, #T_5494c_row2_col1, #T_5494c_row2_col2, #T_5494c_row2_col3, #T_5494c_row2_col5, #T_5494c_row2_col6, #T_5494c_row2_col7, #T_5494c_row3_col0, #T_5494c_row3_col1, #T_5494c_row3_col2, #T_5494c_row3_col3, #T_5494c_row3_col4, #T_5494c_row3_col5, #T_5494c_row3_col6, #T_5494c_row3_col7, #T_5494c_row4_col0, #T_5494c_row4_col1, #T_5494c_row4_col2, #T_5494c_row4_col3, #T_5494c_row4_col4, #T_5494c_row4_col5, #T_5494c_row4_col6, #T_5494c_row4_col7, #T_5494c_row5_col0, #T_5494c_row5_col1, #T_5494c_row5_col2, #T_5494c_row5_col3, #T_5494c_row5_col4, #T_5494c_row5_col5, #T_5494c_row5_col6, #T_5494c_row5_col7, #T_5494c_row6_col0, #T_5494c_row6_col1, #T_5494c_row6_col2, #T_5494c_row6_col3, #T_5494c_row6_col4, #T_5494c_row6_col5, #T_5494c_row6_col6, #T_5494c_row6_col7, #T_5494c_row7_col0, #T_5494c_row7_col1, #T_5494c_row7_col2, #T_5494c_row7_col3, #T_5494c_row7_col4, #T_5494c_row7_col5, #T_5494c_row7_col6, #T_5494c_row7_col7, #T_5494c_row8_col0, #T_5494c_row8_col1, #T_5494c_row8_col2, #T_5494c_row8_col4, #T_5494c_row8_col5, #T_5494c_row8_col6, #T_5494c_row8_col7 {\n",
       "  text-align: left;\n",
       "}\n",
       "#T_5494c_row0_col1, #T_5494c_row0_col2, #T_5494c_row0_col5, #T_5494c_row0_col6, #T_5494c_row0_col7, #T_5494c_row1_col2, #T_5494c_row2_col4, #T_5494c_row8_col3 {\n",
       "  text-align: left;\n",
       "  background-color: yellow;\n",
       "}\n",
       "#T_5494c_row0_col8, #T_5494c_row1_col8, #T_5494c_row2_col8, #T_5494c_row3_col8, #T_5494c_row4_col8, #T_5494c_row5_col8, #T_5494c_row7_col8, #T_5494c_row8_col8 {\n",
       "  text-align: left;\n",
       "  background-color: lightgrey;\n",
       "}\n",
       "#T_5494c_row6_col8 {\n",
       "  text-align: left;\n",
       "  background-color: yellow;\n",
       "  background-color: lightgrey;\n",
       "}\n",
       "</style>\n",
       "<table id=\"T_5494c\">\n",
       "  <thead>\n",
       "    <tr>\n",
       "      <th class=\"blank level0\" >&nbsp;</th>\n",
       "      <th id=\"T_5494c_level0_col0\" class=\"col_heading level0 col0\" >Model</th>\n",
       "      <th id=\"T_5494c_level0_col1\" class=\"col_heading level0 col1\" >Accuracy</th>\n",
       "      <th id=\"T_5494c_level0_col2\" class=\"col_heading level0 col2\" >AUC</th>\n",
       "      <th id=\"T_5494c_level0_col3\" class=\"col_heading level0 col3\" >Recall</th>\n",
       "      <th id=\"T_5494c_level0_col4\" class=\"col_heading level0 col4\" >Prec.</th>\n",
       "      <th id=\"T_5494c_level0_col5\" class=\"col_heading level0 col5\" >F1</th>\n",
       "      <th id=\"T_5494c_level0_col6\" class=\"col_heading level0 col6\" >Kappa</th>\n",
       "      <th id=\"T_5494c_level0_col7\" class=\"col_heading level0 col7\" >MCC</th>\n",
       "      <th id=\"T_5494c_level0_col8\" class=\"col_heading level0 col8\" >TT (Sec)</th>\n",
       "    </tr>\n",
       "  </thead>\n",
       "  <tbody>\n",
       "    <tr>\n",
       "      <th id=\"T_5494c_level0_row0\" class=\"row_heading level0 row0\" >lightgbm</th>\n",
       "      <td id=\"T_5494c_row0_col0\" class=\"data row0 col0\" >Light Gradient Boosting Machine</td>\n",
       "      <td id=\"T_5494c_row0_col1\" class=\"data row0 col1\" >0.7386</td>\n",
       "      <td id=\"T_5494c_row0_col2\" class=\"data row0 col2\" >0.8206</td>\n",
       "      <td id=\"T_5494c_row0_col3\" class=\"data row0 col3\" >0.8346</td>\n",
       "      <td id=\"T_5494c_row0_col4\" class=\"data row0 col4\" >0.7014</td>\n",
       "      <td id=\"T_5494c_row0_col5\" class=\"data row0 col5\" >0.7622</td>\n",
       "      <td id=\"T_5494c_row0_col6\" class=\"data row0 col6\" >0.4767</td>\n",
       "      <td id=\"T_5494c_row0_col7\" class=\"data row0 col7\" >0.4856</td>\n",
       "      <td id=\"T_5494c_row0_col8\" class=\"data row0 col8\" >0.3670</td>\n",
       "    </tr>\n",
       "    <tr>\n",
       "      <th id=\"T_5494c_level0_row1\" class=\"row_heading level0 row1\" >xgboost</th>\n",
       "      <td id=\"T_5494c_row1_col0\" class=\"data row1 col0\" >Extreme Gradient Boosting</td>\n",
       "      <td id=\"T_5494c_row1_col1\" class=\"data row1 col1\" >0.7385</td>\n",
       "      <td id=\"T_5494c_row1_col2\" class=\"data row1 col2\" >0.8206</td>\n",
       "      <td id=\"T_5494c_row1_col3\" class=\"data row1 col3\" >0.8319</td>\n",
       "      <td id=\"T_5494c_row1_col4\" class=\"data row1 col4\" >0.7022</td>\n",
       "      <td id=\"T_5494c_row1_col5\" class=\"data row1 col5\" >0.7616</td>\n",
       "      <td id=\"T_5494c_row1_col6\" class=\"data row1 col6\" >0.4766</td>\n",
       "      <td id=\"T_5494c_row1_col7\" class=\"data row1 col7\" >0.4850</td>\n",
       "      <td id=\"T_5494c_row1_col8\" class=\"data row1 col8\" >6.0510</td>\n",
       "    </tr>\n",
       "    <tr>\n",
       "      <th id=\"T_5494c_level0_row2\" class=\"row_heading level0 row2\" >rf</th>\n",
       "      <td id=\"T_5494c_row2_col0\" class=\"data row2 col0\" >Random Forest Classifier</td>\n",
       "      <td id=\"T_5494c_row2_col1\" class=\"data row2 col1\" >0.7379</td>\n",
       "      <td id=\"T_5494c_row2_col2\" class=\"data row2 col2\" >0.8181</td>\n",
       "      <td id=\"T_5494c_row2_col3\" class=\"data row2 col3\" >0.8211</td>\n",
       "      <td id=\"T_5494c_row2_col4\" class=\"data row2 col4\" >0.7053</td>\n",
       "      <td id=\"T_5494c_row2_col5\" class=\"data row2 col5\" >0.7588</td>\n",
       "      <td id=\"T_5494c_row2_col6\" class=\"data row2 col6\" >0.4754</td>\n",
       "      <td id=\"T_5494c_row2_col7\" class=\"data row2 col7\" >0.4820</td>\n",
       "      <td id=\"T_5494c_row2_col8\" class=\"data row2 col8\" >3.3900</td>\n",
       "    </tr>\n",
       "    <tr>\n",
       "      <th id=\"T_5494c_level0_row3\" class=\"row_heading level0 row3\" >et</th>\n",
       "      <td id=\"T_5494c_row3_col0\" class=\"data row3 col0\" >Extra Trees Classifier</td>\n",
       "      <td id=\"T_5494c_row3_col1\" class=\"data row3 col1\" >0.7372</td>\n",
       "      <td id=\"T_5494c_row3_col2\" class=\"data row3 col2\" >0.8172</td>\n",
       "      <td id=\"T_5494c_row3_col3\" class=\"data row3 col3\" >0.8196</td>\n",
       "      <td id=\"T_5494c_row3_col4\" class=\"data row3 col4\" >0.7049</td>\n",
       "      <td id=\"T_5494c_row3_col5\" class=\"data row3 col5\" >0.7579</td>\n",
       "      <td id=\"T_5494c_row3_col6\" class=\"data row3 col6\" >0.4740</td>\n",
       "      <td id=\"T_5494c_row3_col7\" class=\"data row3 col7\" >0.4804</td>\n",
       "      <td id=\"T_5494c_row3_col8\" class=\"data row3 col8\" >4.0730</td>\n",
       "    </tr>\n",
       "    <tr>\n",
       "      <th id=\"T_5494c_level0_row4\" class=\"row_heading level0 row4\" >dt</th>\n",
       "      <td id=\"T_5494c_row4_col0\" class=\"data row4 col0\" >Decision Tree Classifier</td>\n",
       "      <td id=\"T_5494c_row4_col1\" class=\"data row4 col1\" >0.7369</td>\n",
       "      <td id=\"T_5494c_row4_col2\" class=\"data row4 col2\" >0.8166</td>\n",
       "      <td id=\"T_5494c_row4_col3\" class=\"data row4 col3\" >0.8192</td>\n",
       "      <td id=\"T_5494c_row4_col4\" class=\"data row4 col4\" >0.7047</td>\n",
       "      <td id=\"T_5494c_row4_col5\" class=\"data row4 col5\" >0.7577</td>\n",
       "      <td id=\"T_5494c_row4_col6\" class=\"data row4 col6\" >0.4735</td>\n",
       "      <td id=\"T_5494c_row4_col7\" class=\"data row4 col7\" >0.4799</td>\n",
       "      <td id=\"T_5494c_row4_col8\" class=\"data row4 col8\" >0.2190</td>\n",
       "    </tr>\n",
       "    <tr>\n",
       "      <th id=\"T_5494c_level0_row5\" class=\"row_heading level0 row5\" >lr</th>\n",
       "      <td id=\"T_5494c_row5_col0\" class=\"data row5 col0\" >Logistic Regression</td>\n",
       "      <td id=\"T_5494c_row5_col1\" class=\"data row5 col1\" >0.7092</td>\n",
       "      <td id=\"T_5494c_row5_col2\" class=\"data row5 col2\" >0.7828</td>\n",
       "      <td id=\"T_5494c_row5_col3\" class=\"data row5 col3\" >0.8194</td>\n",
       "      <td id=\"T_5494c_row5_col4\" class=\"data row5 col4\" >0.6728</td>\n",
       "      <td id=\"T_5494c_row5_col5\" class=\"data row5 col5\" >0.7388</td>\n",
       "      <td id=\"T_5494c_row5_col6\" class=\"data row5 col6\" >0.4179</td>\n",
       "      <td id=\"T_5494c_row5_col7\" class=\"data row5 col7\" >0.4283</td>\n",
       "      <td id=\"T_5494c_row5_col8\" class=\"data row5 col8\" >2.4640</td>\n",
       "    </tr>\n",
       "    <tr>\n",
       "      <th id=\"T_5494c_level0_row6\" class=\"row_heading level0 row6\" >ridge</th>\n",
       "      <td id=\"T_5494c_row6_col0\" class=\"data row6 col0\" >Ridge Classifier</td>\n",
       "      <td id=\"T_5494c_row6_col1\" class=\"data row6 col1\" >0.6995</td>\n",
       "      <td id=\"T_5494c_row6_col2\" class=\"data row6 col2\" >0.0000</td>\n",
       "      <td id=\"T_5494c_row6_col3\" class=\"data row6 col3\" >0.7943</td>\n",
       "      <td id=\"T_5494c_row6_col4\" class=\"data row6 col4\" >0.6691</td>\n",
       "      <td id=\"T_5494c_row6_col5\" class=\"data row6 col5\" >0.7264</td>\n",
       "      <td id=\"T_5494c_row6_col6\" class=\"data row6 col6\" >0.3986</td>\n",
       "      <td id=\"T_5494c_row6_col7\" class=\"data row6 col7\" >0.4058</td>\n",
       "      <td id=\"T_5494c_row6_col8\" class=\"data row6 col8\" >0.1930</td>\n",
       "    </tr>\n",
       "    <tr>\n",
       "      <th id=\"T_5494c_level0_row7\" class=\"row_heading level0 row7\" >lda</th>\n",
       "      <td id=\"T_5494c_row7_col0\" class=\"data row7 col0\" >Linear Discriminant Analysis</td>\n",
       "      <td id=\"T_5494c_row7_col1\" class=\"data row7 col1\" >0.6995</td>\n",
       "      <td id=\"T_5494c_row7_col2\" class=\"data row7 col2\" >0.7726</td>\n",
       "      <td id=\"T_5494c_row7_col3\" class=\"data row7 col3\" >0.7943</td>\n",
       "      <td id=\"T_5494c_row7_col4\" class=\"data row7 col4\" >0.6691</td>\n",
       "      <td id=\"T_5494c_row7_col5\" class=\"data row7 col5\" >0.7264</td>\n",
       "      <td id=\"T_5494c_row7_col6\" class=\"data row7 col6\" >0.3986</td>\n",
       "      <td id=\"T_5494c_row7_col7\" class=\"data row7 col7\" >0.4058</td>\n",
       "      <td id=\"T_5494c_row7_col8\" class=\"data row7 col8\" >1.4430</td>\n",
       "    </tr>\n",
       "    <tr>\n",
       "      <th id=\"T_5494c_level0_row8\" class=\"row_heading level0 row8\" >nb</th>\n",
       "      <td id=\"T_5494c_row8_col0\" class=\"data row8 col0\" >Naive Bayes</td>\n",
       "      <td id=\"T_5494c_row8_col1\" class=\"data row8 col1\" >0.6639</td>\n",
       "      <td id=\"T_5494c_row8_col2\" class=\"data row8 col2\" >0.7335</td>\n",
       "      <td id=\"T_5494c_row8_col3\" class=\"data row8 col3\" >0.8708</td>\n",
       "      <td id=\"T_5494c_row8_col4\" class=\"data row8 col4\" >0.6175</td>\n",
       "      <td id=\"T_5494c_row8_col5\" class=\"data row8 col5\" >0.7222</td>\n",
       "      <td id=\"T_5494c_row8_col6\" class=\"data row8 col6\" >0.3267</td>\n",
       "      <td id=\"T_5494c_row8_col7\" class=\"data row8 col7\" >0.3599</td>\n",
       "      <td id=\"T_5494c_row8_col8\" class=\"data row8 col8\" >0.7760</td>\n",
       "    </tr>\n",
       "  </tbody>\n",
       "</table>\n"
      ],
      "text/plain": [
       "<pandas.io.formats.style.Styler at 0x7fc8ff30b070>"
      ]
     },
     "metadata": {},
     "output_type": "display_data"
    },
    {
     "data": {
      "application/vnd.jupyter.widget-view+json": {
       "model_id": "",
       "version_major": 2,
       "version_minor": 0
      },
      "text/plain": [
       "Processing:   0%|          | 0/41 [00:00<?, ?it/s]"
      ]
     },
     "metadata": {},
     "output_type": "display_data"
    }
   ],
   "source": [
    "bestModel = compare_models(exclude=exclude_models)"
   ]
  },
  {
   "cell_type": "code",
   "execution_count": 18,
   "metadata": {},
   "outputs": [],
   "source": [
    "# create feature importance plot"
   ]
  },
  {
   "cell_type": "code",
   "execution_count": 19,
   "metadata": {
    "tags": []
   },
   "outputs": [
    {
     "data": {
      "text/html": [],
      "text/plain": [
       "<IPython.core.display.HTML object>"
      ]
     },
     "metadata": {},
     "output_type": "display_data"
    },
    {
     "data": {
      "image/png": "[encoded data removed]",
      "text/plain": [
       "<Figure size 800x500 with 1 Axes>"
      ]
     },
     "metadata": {},
     "output_type": "display_data"
    }
   ],
   "source": [
    "#top 10 features\n",
    "plot_model(bestModel, plot='feature') #feature_all -> to check for all features "
   ]
  },
  {
   "cell_type": "markdown",
   "metadata": {
    "tags": []
   },
   "source": [
    "### 5 : Model Experimentation after dropping features"
   ]
  },
  {
   "cell_type": "markdown",
   "metadata": {},
   "source": [
    "From the above feature tests we can claerly see that some of the features are not significant. We will now drop all the insignificant features and select only the significant ones.\n",
    "The list of the significant features is \n",
    "['total_leads_droppped', 'city_tier', 'referred_lead', 'app_complete_flag', 'first_platform_c', 'first_utm_medium_c', 'first_utm_source_c'].\n",
    "So now you will train your model with onlly these features.\n",
    "\n",
    "Also note that in our previous experiments we saw that tree based models are our top performers. In case of tree based models we do not require transformationss normalization, scaling etc. So make sure that you use setup pycaret in the proper way. i.e, make sure that you use normalize = False and transformation = False."
   ]
  },
  {
   "cell_type": "code",
   "execution_count": 20,
   "metadata": {
    "tags": []
   },
   "outputs": [],
   "source": [
    "importantFeatures = ['total_leads_droppped', 'city_tier', 'referred_lead', 'app_complete_flag', 'first_platform_c', 'first_utm_medium_c', 'first_utm_source_c']"
   ]
  },
  {
   "cell_type": "code",
   "execution_count": 21,
   "metadata": {},
   "outputs": [],
   "source": [
    "# \n",
    "# ['total_leads_droppped', 'city_tier', 'referred_lead', 'app_complete_flag', 'first_platform_c', 'first_utm_medium_c', 'first_utm_source_c']\n",
    "#\n",
    "# Train the model using the features listed above. Since we are using tree models we do not require any transformaions \n",
    "# such as normalization, scaling etc.So make sure that you use setup pycaret in the proper way. i.e, make sure that you use \n",
    "# normalize = False and transformation = False."
   ]
  },
  {
   "cell_type": "code",
   "execution_count": 22,
   "metadata": {
    "tags": []
   },
   "outputs": [],
   "source": [
    "data_featureImportance = dataset[importantFeatures]"
   ]
  },
  {
   "cell_type": "code",
   "execution_count": 23,
   "metadata": {
    "tags": []
   },
   "outputs": [
    {
     "data": {
      "text/html": [
       "<style type=\"text/css\">\n",
       "#T_1a409_row9_col1 {\n",
       "  background-color: lightgreen;\n",
       "}\n",
       "</style>\n",
       "<table id=\"T_1a409\">\n",
       "  <thead>\n",
       "    <tr>\n",
       "      <th class=\"blank level0\" >&nbsp;</th>\n",
       "      <th id=\"T_1a409_level0_col0\" class=\"col_heading level0 col0\" >Description</th>\n",
       "      <th id=\"T_1a409_level0_col1\" class=\"col_heading level0 col1\" >Value</th>\n",
       "    </tr>\n",
       "  </thead>\n",
       "  <tbody>\n",
       "    <tr>\n",
       "      <th id=\"T_1a409_level0_row0\" class=\"row_heading level0 row0\" >0</th>\n",
       "      <td id=\"T_1a409_row0_col0\" class=\"data row0 col0\" >Session id</td>\n",
       "      <td id=\"T_1a409_row0_col1\" class=\"data row0 col1\" >43</td>\n",
       "    </tr>\n",
       "    <tr>\n",
       "      <th id=\"T_1a409_level0_row1\" class=\"row_heading level0 row1\" >1</th>\n",
       "      <td id=\"T_1a409_row1_col0\" class=\"data row1 col0\" >Target</td>\n",
       "      <td id=\"T_1a409_row1_col1\" class=\"data row1 col1\" >app_complete_flag</td>\n",
       "    </tr>\n",
       "    <tr>\n",
       "      <th id=\"T_1a409_level0_row2\" class=\"row_heading level0 row2\" >2</th>\n",
       "      <td id=\"T_1a409_row2_col0\" class=\"data row2 col0\" >Target type</td>\n",
       "      <td id=\"T_1a409_row2_col1\" class=\"data row2 col1\" >Binary</td>\n",
       "    </tr>\n",
       "    <tr>\n",
       "      <th id=\"T_1a409_level0_row3\" class=\"row_heading level0 row3\" >3</th>\n",
       "      <td id=\"T_1a409_row3_col0\" class=\"data row3 col0\" >Original data shape</td>\n",
       "      <td id=\"T_1a409_row3_col1\" class=\"data row3 col1\" >(238964, 7)</td>\n",
       "    </tr>\n",
       "    <tr>\n",
       "      <th id=\"T_1a409_level0_row4\" class=\"row_heading level0 row4\" >4</th>\n",
       "      <td id=\"T_1a409_row4_col0\" class=\"data row4 col0\" >Transformed data shape</td>\n",
       "      <td id=\"T_1a409_row4_col1\" class=\"data row4 col1\" >(238964, 39)</td>\n",
       "    </tr>\n",
       "    <tr>\n",
       "      <th id=\"T_1a409_level0_row5\" class=\"row_heading level0 row5\" >5</th>\n",
       "      <td id=\"T_1a409_row5_col0\" class=\"data row5 col0\" >Transformed train set shape</td>\n",
       "      <td id=\"T_1a409_row5_col1\" class=\"data row5 col1\" >(167274, 39)</td>\n",
       "    </tr>\n",
       "    <tr>\n",
       "      <th id=\"T_1a409_level0_row6\" class=\"row_heading level0 row6\" >6</th>\n",
       "      <td id=\"T_1a409_row6_col0\" class=\"data row6 col0\" >Transformed test set shape</td>\n",
       "      <td id=\"T_1a409_row6_col1\" class=\"data row6 col1\" >(71690, 39)</td>\n",
       "    </tr>\n",
       "    <tr>\n",
       "      <th id=\"T_1a409_level0_row7\" class=\"row_heading level0 row7\" >7</th>\n",
       "      <td id=\"T_1a409_row7_col0\" class=\"data row7 col0\" >Numeric features</td>\n",
       "      <td id=\"T_1a409_row7_col1\" class=\"data row7 col1\" >3</td>\n",
       "    </tr>\n",
       "    <tr>\n",
       "      <th id=\"T_1a409_level0_row8\" class=\"row_heading level0 row8\" >8</th>\n",
       "      <td id=\"T_1a409_row8_col0\" class=\"data row8 col0\" >Categorical features</td>\n",
       "      <td id=\"T_1a409_row8_col1\" class=\"data row8 col1\" >3</td>\n",
       "    </tr>\n",
       "    <tr>\n",
       "      <th id=\"T_1a409_level0_row9\" class=\"row_heading level0 row9\" >9</th>\n",
       "      <td id=\"T_1a409_row9_col0\" class=\"data row9 col0\" >Preprocess</td>\n",
       "      <td id=\"T_1a409_row9_col1\" class=\"data row9 col1\" >True</td>\n",
       "    </tr>\n",
       "    <tr>\n",
       "      <th id=\"T_1a409_level0_row10\" class=\"row_heading level0 row10\" >10</th>\n",
       "      <td id=\"T_1a409_row10_col0\" class=\"data row10 col0\" >Imputation type</td>\n",
       "      <td id=\"T_1a409_row10_col1\" class=\"data row10 col1\" >simple</td>\n",
       "    </tr>\n",
       "    <tr>\n",
       "      <th id=\"T_1a409_level0_row11\" class=\"row_heading level0 row11\" >11</th>\n",
       "      <td id=\"T_1a409_row11_col0\" class=\"data row11 col0\" >Numeric imputation</td>\n",
       "      <td id=\"T_1a409_row11_col1\" class=\"data row11 col1\" >mean</td>\n",
       "    </tr>\n",
       "    <tr>\n",
       "      <th id=\"T_1a409_level0_row12\" class=\"row_heading level0 row12\" >12</th>\n",
       "      <td id=\"T_1a409_row12_col0\" class=\"data row12 col0\" >Categorical imputation</td>\n",
       "      <td id=\"T_1a409_row12_col1\" class=\"data row12 col1\" >mode</td>\n",
       "    </tr>\n",
       "    <tr>\n",
       "      <th id=\"T_1a409_level0_row13\" class=\"row_heading level0 row13\" >13</th>\n",
       "      <td id=\"T_1a409_row13_col0\" class=\"data row13 col0\" >Maximum one-hot encoding</td>\n",
       "      <td id=\"T_1a409_row13_col1\" class=\"data row13 col1\" >25</td>\n",
       "    </tr>\n",
       "    <tr>\n",
       "      <th id=\"T_1a409_level0_row14\" class=\"row_heading level0 row14\" >14</th>\n",
       "      <td id=\"T_1a409_row14_col0\" class=\"data row14 col0\" >Encoding method</td>\n",
       "      <td id=\"T_1a409_row14_col1\" class=\"data row14 col1\" >None</td>\n",
       "    </tr>\n",
       "    <tr>\n",
       "      <th id=\"T_1a409_level0_row15\" class=\"row_heading level0 row15\" >15</th>\n",
       "      <td id=\"T_1a409_row15_col0\" class=\"data row15 col0\" >Fold Generator</td>\n",
       "      <td id=\"T_1a409_row15_col1\" class=\"data row15 col1\" >StratifiedKFold</td>\n",
       "    </tr>\n",
       "    <tr>\n",
       "      <th id=\"T_1a409_level0_row16\" class=\"row_heading level0 row16\" >16</th>\n",
       "      <td id=\"T_1a409_row16_col0\" class=\"data row16 col0\" >Fold Number</td>\n",
       "      <td id=\"T_1a409_row16_col1\" class=\"data row16 col1\" >10</td>\n",
       "    </tr>\n",
       "    <tr>\n",
       "      <th id=\"T_1a409_level0_row17\" class=\"row_heading level0 row17\" >17</th>\n",
       "      <td id=\"T_1a409_row17_col0\" class=\"data row17 col0\" >CPU Jobs</td>\n",
       "      <td id=\"T_1a409_row17_col1\" class=\"data row17 col1\" >-1</td>\n",
       "    </tr>\n",
       "    <tr>\n",
       "      <th id=\"T_1a409_level0_row18\" class=\"row_heading level0 row18\" >18</th>\n",
       "      <td id=\"T_1a409_row18_col0\" class=\"data row18 col0\" >Use GPU</td>\n",
       "      <td id=\"T_1a409_row18_col1\" class=\"data row18 col1\" >False</td>\n",
       "    </tr>\n",
       "    <tr>\n",
       "      <th id=\"T_1a409_level0_row19\" class=\"row_heading level0 row19\" >19</th>\n",
       "      <td id=\"T_1a409_row19_col0\" class=\"data row19 col0\" >Log Experiment</td>\n",
       "      <td id=\"T_1a409_row19_col1\" class=\"data row19 col1\" >MlflowLogger</td>\n",
       "    </tr>\n",
       "    <tr>\n",
       "      <th id=\"T_1a409_level0_row20\" class=\"row_heading level0 row20\" >20</th>\n",
       "      <td id=\"T_1a409_row20_col0\" class=\"data row20 col0\" >Experiment Name</td>\n",
       "      <td id=\"T_1a409_row20_col1\" class=\"data row20 col1\" >ImportantFeaturesOnlyExpt</td>\n",
       "    </tr>\n",
       "    <tr>\n",
       "      <th id=\"T_1a409_level0_row21\" class=\"row_heading level0 row21\" >21</th>\n",
       "      <td id=\"T_1a409_row21_col0\" class=\"data row21 col0\" >USI</td>\n",
       "      <td id=\"T_1a409_row21_col1\" class=\"data row21 col1\" >5ea9</td>\n",
       "    </tr>\n",
       "  </tbody>\n",
       "</table>\n"
      ],
      "text/plain": [
       "<pandas.io.formats.style.Styler at 0x7fc8ff3774c0>"
      ]
     },
     "metadata": {},
     "output_type": "display_data"
    },
    {
     "name": "stderr",
     "output_type": "stream",
     "text": [
      "2023/05/14 00:18:42 INFO mlflow.tracking.fluent: Experiment with name 'ImportantFeaturesOnlyExpt' does not exist. Creating a new experiment.\n"
     ]
    }
   ],
   "source": [
    "featureImp_clf = setup(data_featureImportance,target = 'app_complete_flag', \n",
    "                   session_id = 43,fix_imbalance=False,\n",
    "                   n_jobs=-1,\n",
    "                   log_experiment=True,experiment_name='ImportantFeaturesOnlyExpt',\n",
    "                   log_plots=True, log_data=True,verbose=True,\n",
    "                   log_profile=False, normalize=False, transformation=False)"
   ]
  },
  {
   "cell_type": "code",
   "execution_count": 24,
   "metadata": {
    "tags": []
   },
   "outputs": [],
   "source": [
    "# create a experimentation with pycaret and exclude ['gbc','knn','qda', 'dummy', 'svm', 'ada']. "
   ]
  },
  {
   "cell_type": "code",
   "execution_count": 25,
   "metadata": {
    "tags": []
   },
   "outputs": [
    {
     "data": {
      "text/html": [],
      "text/plain": [
       "<IPython.core.display.HTML object>"
      ]
     },
     "metadata": {},
     "output_type": "display_data"
    },
    {
     "data": {
      "text/html": [
       "<style type=\"text/css\">\n",
       "#T_8a67c th {\n",
       "  text-align: left;\n",
       "}\n",
       "#T_8a67c_row0_col0, #T_8a67c_row0_col2, #T_8a67c_row0_col3, #T_8a67c_row0_col5, #T_8a67c_row0_col7, #T_8a67c_row1_col0, #T_8a67c_row1_col1, #T_8a67c_row1_col3, #T_8a67c_row1_col4, #T_8a67c_row1_col6, #T_8a67c_row2_col0, #T_8a67c_row2_col1, #T_8a67c_row2_col2, #T_8a67c_row2_col3, #T_8a67c_row2_col4, #T_8a67c_row2_col5, #T_8a67c_row2_col6, #T_8a67c_row2_col7, #T_8a67c_row3_col0, #T_8a67c_row3_col1, #T_8a67c_row3_col2, #T_8a67c_row3_col3, #T_8a67c_row3_col4, #T_8a67c_row3_col5, #T_8a67c_row3_col6, #T_8a67c_row3_col7, #T_8a67c_row4_col0, #T_8a67c_row4_col1, #T_8a67c_row4_col2, #T_8a67c_row4_col3, #T_8a67c_row4_col4, #T_8a67c_row4_col5, #T_8a67c_row4_col6, #T_8a67c_row4_col7, #T_8a67c_row5_col0, #T_8a67c_row5_col1, #T_8a67c_row5_col2, #T_8a67c_row5_col3, #T_8a67c_row5_col4, #T_8a67c_row5_col5, #T_8a67c_row5_col6, #T_8a67c_row5_col7, #T_8a67c_row6_col0, #T_8a67c_row6_col1, #T_8a67c_row6_col2, #T_8a67c_row6_col3, #T_8a67c_row6_col4, #T_8a67c_row6_col5, #T_8a67c_row6_col6, #T_8a67c_row6_col7, #T_8a67c_row7_col0, #T_8a67c_row7_col1, #T_8a67c_row7_col2, #T_8a67c_row7_col3, #T_8a67c_row7_col4, #T_8a67c_row7_col5, #T_8a67c_row7_col6, #T_8a67c_row7_col7, #T_8a67c_row8_col0, #T_8a67c_row8_col1, #T_8a67c_row8_col2, #T_8a67c_row8_col4, #T_8a67c_row8_col5, #T_8a67c_row8_col6, #T_8a67c_row8_col7 {\n",
       "  text-align: left;\n",
       "}\n",
       "#T_8a67c_row0_col1, #T_8a67c_row0_col4, #T_8a67c_row0_col6, #T_8a67c_row1_col2, #T_8a67c_row1_col5, #T_8a67c_row1_col7, #T_8a67c_row8_col3 {\n",
       "  text-align: left;\n",
       "  background-color: yellow;\n",
       "}\n",
       "#T_8a67c_row0_col8, #T_8a67c_row1_col8, #T_8a67c_row2_col8, #T_8a67c_row3_col8, #T_8a67c_row5_col8, #T_8a67c_row6_col8, #T_8a67c_row7_col8, #T_8a67c_row8_col8 {\n",
       "  text-align: left;\n",
       "  background-color: lightgrey;\n",
       "}\n",
       "#T_8a67c_row4_col8 {\n",
       "  text-align: left;\n",
       "  background-color: yellow;\n",
       "  background-color: lightgrey;\n",
       "}\n",
       "</style>\n",
       "<table id=\"T_8a67c\">\n",
       "  <thead>\n",
       "    <tr>\n",
       "      <th class=\"blank level0\" >&nbsp;</th>\n",
       "      <th id=\"T_8a67c_level0_col0\" class=\"col_heading level0 col0\" >Model</th>\n",
       "      <th id=\"T_8a67c_level0_col1\" class=\"col_heading level0 col1\" >Accuracy</th>\n",
       "      <th id=\"T_8a67c_level0_col2\" class=\"col_heading level0 col2\" >AUC</th>\n",
       "      <th id=\"T_8a67c_level0_col3\" class=\"col_heading level0 col3\" >Recall</th>\n",
       "      <th id=\"T_8a67c_level0_col4\" class=\"col_heading level0 col4\" >Prec.</th>\n",
       "      <th id=\"T_8a67c_level0_col5\" class=\"col_heading level0 col5\" >F1</th>\n",
       "      <th id=\"T_8a67c_level0_col6\" class=\"col_heading level0 col6\" >Kappa</th>\n",
       "      <th id=\"T_8a67c_level0_col7\" class=\"col_heading level0 col7\" >MCC</th>\n",
       "      <th id=\"T_8a67c_level0_col8\" class=\"col_heading level0 col8\" >TT (Sec)</th>\n",
       "    </tr>\n",
       "  </thead>\n",
       "  <tbody>\n",
       "    <tr>\n",
       "      <th id=\"T_8a67c_level0_row0\" class=\"row_heading level0 row0\" >xgboost</th>\n",
       "      <td id=\"T_8a67c_row0_col0\" class=\"data row0 col0\" >Extreme Gradient Boosting</td>\n",
       "      <td id=\"T_8a67c_row0_col1\" class=\"data row0 col1\" >0.7381</td>\n",
       "      <td id=\"T_8a67c_row0_col2\" class=\"data row0 col2\" >0.8202</td>\n",
       "      <td id=\"T_8a67c_row0_col3\" class=\"data row0 col3\" >0.8277</td>\n",
       "      <td id=\"T_8a67c_row0_col4\" class=\"data row0 col4\" >0.7032</td>\n",
       "      <td id=\"T_8a67c_row0_col5\" class=\"data row0 col5\" >0.7604</td>\n",
       "      <td id=\"T_8a67c_row0_col6\" class=\"data row0 col6\" >0.4757</td>\n",
       "      <td id=\"T_8a67c_row0_col7\" class=\"data row0 col7\" >0.4835</td>\n",
       "      <td id=\"T_8a67c_row0_col8\" class=\"data row0 col8\" >4.2090</td>\n",
       "    </tr>\n",
       "    <tr>\n",
       "      <th id=\"T_8a67c_level0_row1\" class=\"row_heading level0 row1\" >lightgbm</th>\n",
       "      <td id=\"T_8a67c_row1_col0\" class=\"data row1 col0\" >Light Gradient Boosting Machine</td>\n",
       "      <td id=\"T_8a67c_row1_col1\" class=\"data row1 col1\" >0.7377</td>\n",
       "      <td id=\"T_8a67c_row1_col2\" class=\"data row1 col2\" >0.8204</td>\n",
       "      <td id=\"T_8a67c_row1_col3\" class=\"data row1 col3\" >0.8365</td>\n",
       "      <td id=\"T_8a67c_row1_col4\" class=\"data row1 col4\" >0.6998</td>\n",
       "      <td id=\"T_8a67c_row1_col5\" class=\"data row1 col5\" >0.7620</td>\n",
       "      <td id=\"T_8a67c_row1_col6\" class=\"data row1 col6\" >0.4751</td>\n",
       "      <td id=\"T_8a67c_row1_col7\" class=\"data row1 col7\" >0.4845</td>\n",
       "      <td id=\"T_8a67c_row1_col8\" class=\"data row1 col8\" >0.2760</td>\n",
       "    </tr>\n",
       "    <tr>\n",
       "      <th id=\"T_8a67c_level0_row2\" class=\"row_heading level0 row2\" >rf</th>\n",
       "      <td id=\"T_8a67c_row2_col0\" class=\"data row2 col0\" >Random Forest Classifier</td>\n",
       "      <td id=\"T_8a67c_row2_col1\" class=\"data row2 col1\" >0.7366</td>\n",
       "      <td id=\"T_8a67c_row2_col2\" class=\"data row2 col2\" >0.8176</td>\n",
       "      <td id=\"T_8a67c_row2_col3\" class=\"data row2 col3\" >0.8249</td>\n",
       "      <td id=\"T_8a67c_row2_col4\" class=\"data row2 col4\" >0.7024</td>\n",
       "      <td id=\"T_8a67c_row2_col5\" class=\"data row2 col5\" >0.7587</td>\n",
       "      <td id=\"T_8a67c_row2_col6\" class=\"data row2 col6\" >0.4728</td>\n",
       "      <td id=\"T_8a67c_row2_col7\" class=\"data row2 col7\" >0.4803</td>\n",
       "      <td id=\"T_8a67c_row2_col8\" class=\"data row2 col8\" >3.1750</td>\n",
       "    </tr>\n",
       "    <tr>\n",
       "      <th id=\"T_8a67c_level0_row3\" class=\"row_heading level0 row3\" >et</th>\n",
       "      <td id=\"T_8a67c_row3_col0\" class=\"data row3 col0\" >Extra Trees Classifier</td>\n",
       "      <td id=\"T_8a67c_row3_col1\" class=\"data row3 col1\" >0.7358</td>\n",
       "      <td id=\"T_8a67c_row3_col2\" class=\"data row3 col2\" >0.8166</td>\n",
       "      <td id=\"T_8a67c_row3_col3\" class=\"data row3 col3\" >0.8214</td>\n",
       "      <td id=\"T_8a67c_row3_col4\" class=\"data row3 col4\" >0.7026</td>\n",
       "      <td id=\"T_8a67c_row3_col5\" class=\"data row3 col5\" >0.7574</td>\n",
       "      <td id=\"T_8a67c_row3_col6\" class=\"data row3 col6\" >0.4712</td>\n",
       "      <td id=\"T_8a67c_row3_col7\" class=\"data row3 col7\" >0.4782</td>\n",
       "      <td id=\"T_8a67c_row3_col8\" class=\"data row3 col8\" >3.6930</td>\n",
       "    </tr>\n",
       "    <tr>\n",
       "      <th id=\"T_8a67c_level0_row4\" class=\"row_heading level0 row4\" >dt</th>\n",
       "      <td id=\"T_8a67c_row4_col0\" class=\"data row4 col0\" >Decision Tree Classifier</td>\n",
       "      <td id=\"T_8a67c_row4_col1\" class=\"data row4 col1\" >0.7356</td>\n",
       "      <td id=\"T_8a67c_row4_col2\" class=\"data row4 col2\" >0.8161</td>\n",
       "      <td id=\"T_8a67c_row4_col3\" class=\"data row4 col3\" >0.8211</td>\n",
       "      <td id=\"T_8a67c_row4_col4\" class=\"data row4 col4\" >0.7025</td>\n",
       "      <td id=\"T_8a67c_row4_col5\" class=\"data row4 col5\" >0.7572</td>\n",
       "      <td id=\"T_8a67c_row4_col6\" class=\"data row4 col6\" >0.4708</td>\n",
       "      <td id=\"T_8a67c_row4_col7\" class=\"data row4 col7\" >0.4778</td>\n",
       "      <td id=\"T_8a67c_row4_col8\" class=\"data row4 col8\" >0.2240</td>\n",
       "    </tr>\n",
       "    <tr>\n",
       "      <th id=\"T_8a67c_level0_row5\" class=\"row_heading level0 row5\" >lr</th>\n",
       "      <td id=\"T_8a67c_row5_col0\" class=\"data row5 col0\" >Logistic Regression</td>\n",
       "      <td id=\"T_8a67c_row5_col1\" class=\"data row5 col1\" >0.7093</td>\n",
       "      <td id=\"T_8a67c_row5_col2\" class=\"data row5 col2\" >0.7834</td>\n",
       "      <td id=\"T_8a67c_row5_col3\" class=\"data row5 col3\" >0.8204</td>\n",
       "      <td id=\"T_8a67c_row5_col4\" class=\"data row5 col4\" >0.6726</td>\n",
       "      <td id=\"T_8a67c_row5_col5\" class=\"data row5 col5\" >0.7392</td>\n",
       "      <td id=\"T_8a67c_row5_col6\" class=\"data row5 col6\" >0.4181</td>\n",
       "      <td id=\"T_8a67c_row5_col7\" class=\"data row5 col7\" >0.4287</td>\n",
       "      <td id=\"T_8a67c_row5_col8\" class=\"data row5 col8\" >1.5140</td>\n",
       "    </tr>\n",
       "    <tr>\n",
       "      <th id=\"T_8a67c_level0_row6\" class=\"row_heading level0 row6\" >ridge</th>\n",
       "      <td id=\"T_8a67c_row6_col0\" class=\"data row6 col0\" >Ridge Classifier</td>\n",
       "      <td id=\"T_8a67c_row6_col1\" class=\"data row6 col1\" >0.7001</td>\n",
       "      <td id=\"T_8a67c_row6_col2\" class=\"data row6 col2\" >0.0000</td>\n",
       "      <td id=\"T_8a67c_row6_col3\" class=\"data row6 col3\" >0.7949</td>\n",
       "      <td id=\"T_8a67c_row6_col4\" class=\"data row6 col4\" >0.6696</td>\n",
       "      <td id=\"T_8a67c_row6_col5\" class=\"data row6 col5\" >0.7269</td>\n",
       "      <td id=\"T_8a67c_row6_col6\" class=\"data row6 col6\" >0.3997</td>\n",
       "      <td id=\"T_8a67c_row6_col7\" class=\"data row6 col7\" >0.4070</td>\n",
       "      <td id=\"T_8a67c_row6_col8\" class=\"data row6 col8\" >0.2510</td>\n",
       "    </tr>\n",
       "    <tr>\n",
       "      <th id=\"T_8a67c_level0_row7\" class=\"row_heading level0 row7\" >lda</th>\n",
       "      <td id=\"T_8a67c_row7_col0\" class=\"data row7 col0\" >Linear Discriminant Analysis</td>\n",
       "      <td id=\"T_8a67c_row7_col1\" class=\"data row7 col1\" >0.7001</td>\n",
       "      <td id=\"T_8a67c_row7_col2\" class=\"data row7 col2\" >0.7730</td>\n",
       "      <td id=\"T_8a67c_row7_col3\" class=\"data row7 col3\" >0.7950</td>\n",
       "      <td id=\"T_8a67c_row7_col4\" class=\"data row7 col4\" >0.6696</td>\n",
       "      <td id=\"T_8a67c_row7_col5\" class=\"data row7 col5\" >0.7269</td>\n",
       "      <td id=\"T_8a67c_row7_col6\" class=\"data row7 col6\" >0.3998</td>\n",
       "      <td id=\"T_8a67c_row7_col7\" class=\"data row7 col7\" >0.4071</td>\n",
       "      <td id=\"T_8a67c_row7_col8\" class=\"data row7 col8\" >0.6240</td>\n",
       "    </tr>\n",
       "    <tr>\n",
       "      <th id=\"T_8a67c_level0_row8\" class=\"row_heading level0 row8\" >nb</th>\n",
       "      <td id=\"T_8a67c_row8_col0\" class=\"data row8 col0\" >Naive Bayes</td>\n",
       "      <td id=\"T_8a67c_row8_col1\" class=\"data row8 col1\" >0.6793</td>\n",
       "      <td id=\"T_8a67c_row8_col2\" class=\"data row8 col2\" >0.7336</td>\n",
       "      <td id=\"T_8a67c_row8_col3\" class=\"data row8 col3\" >0.8540</td>\n",
       "      <td id=\"T_8a67c_row8_col4\" class=\"data row8 col4\" >0.6341</td>\n",
       "      <td id=\"T_8a67c_row8_col5\" class=\"data row8 col5\" >0.7278</td>\n",
       "      <td id=\"T_8a67c_row8_col6\" class=\"data row8 col6\" >0.3576</td>\n",
       "      <td id=\"T_8a67c_row8_col7\" class=\"data row8 col7\" >0.3816</td>\n",
       "      <td id=\"T_8a67c_row8_col8\" class=\"data row8 col8\" >0.2920</td>\n",
       "    </tr>\n",
       "  </tbody>\n",
       "</table>\n"
      ],
      "text/plain": [
       "<pandas.io.formats.style.Styler at 0x7fc8ff218bb0>"
      ]
     },
     "metadata": {},
     "output_type": "display_data"
    },
    {
     "data": {
      "application/vnd.jupyter.widget-view+json": {
       "model_id": "",
       "version_major": 2,
       "version_minor": 0
      },
      "text/plain": [
       "Processing:   0%|          | 0/41 [00:00<?, ?it/s]"
      ]
     },
     "metadata": {},
     "output_type": "display_data"
    }
   ],
   "source": [
    "bestModel_featureImp = compare_models(exclude=exclude_models)\n"
   ]
  },
  {
   "cell_type": "code",
   "execution_count": 26,
   "metadata": {},
   "outputs": [],
   "source": [
    "# You should get lightgbm as the best performing model. So now we will train a lightGBM model manually using pycaret"
   ]
  },
  {
   "cell_type": "code",
   "execution_count": 27,
   "metadata": {
    "tags": []
   },
   "outputs": [
    {
     "data": {
      "text/html": [
       "<style>#sk-container-id-1 {color: black;background-color: white;}#sk-container-id-1 pre{padding: 0;}#sk-container-id-1 div.sk-toggleable {background-color: white;}#sk-container-id-1 label.sk-toggleable__label {cursor: pointer;display: block;width: 100%;margin-bottom: 0;padding: 0.3em;box-sizing: border-box;text-align: center;}#sk-container-id-1 label.sk-toggleable__label-arrow:before {content: \"▸\";float: left;margin-right: 0.25em;color: #696969;}#sk-container-id-1 label.sk-toggleable__label-arrow:hover:before {color: black;}#sk-container-id-1 div.sk-estimator:hover label.sk-toggleable__label-arrow:before {color: black;}#sk-container-id-1 div.sk-toggleable__content {max-height: 0;max-width: 0;overflow: hidden;text-align: left;background-color: #f0f8ff;}#sk-container-id-1 div.sk-toggleable__content pre {margin: 0.2em;color: black;border-radius: 0.25em;background-color: #f0f8ff;}#sk-container-id-1 input.sk-toggleable__control:checked~div.sk-toggleable__content {max-height: 200px;max-width: 100%;overflow: auto;}#sk-container-id-1 input.sk-toggleable__control:checked~label.sk-toggleable__label-arrow:before {content: \"▾\";}#sk-container-id-1 div.sk-estimator input.sk-toggleable__control:checked~label.sk-toggleable__label {background-color: #d4ebff;}#sk-container-id-1 div.sk-label input.sk-toggleable__control:checked~label.sk-toggleable__label {background-color: #d4ebff;}#sk-container-id-1 input.sk-hidden--visually {border: 0;clip: rect(1px 1px 1px 1px);clip: rect(1px, 1px, 1px, 1px);height: 1px;margin: -1px;overflow: hidden;padding: 0;position: absolute;width: 1px;}#sk-container-id-1 div.sk-estimator {font-family: monospace;background-color: #f0f8ff;border: 1px dotted black;border-radius: 0.25em;box-sizing: border-box;margin-bottom: 0.5em;}#sk-container-id-1 div.sk-estimator:hover {background-color: #d4ebff;}#sk-container-id-1 div.sk-parallel-item::after {content: \"\";width: 100%;border-bottom: 1px solid gray;flex-grow: 1;}#sk-container-id-1 div.sk-label:hover label.sk-toggleable__label {background-color: #d4ebff;}#sk-container-id-1 div.sk-serial::before {content: \"\";position: absolute;border-left: 1px solid gray;box-sizing: border-box;top: 0;bottom: 0;left: 50%;z-index: 0;}#sk-container-id-1 div.sk-serial {display: flex;flex-direction: column;align-items: center;background-color: white;padding-right: 0.2em;padding-left: 0.2em;position: relative;}#sk-container-id-1 div.sk-item {position: relative;z-index: 1;}#sk-container-id-1 div.sk-parallel {display: flex;align-items: stretch;justify-content: center;background-color: white;position: relative;}#sk-container-id-1 div.sk-item::before, #sk-container-id-1 div.sk-parallel-item::before {content: \"\";position: absolute;border-left: 1px solid gray;box-sizing: border-box;top: 0;bottom: 0;left: 50%;z-index: -1;}#sk-container-id-1 div.sk-parallel-item {display: flex;flex-direction: column;z-index: 1;position: relative;background-color: white;}#sk-container-id-1 div.sk-parallel-item:first-child::after {align-self: flex-end;width: 50%;}#sk-container-id-1 div.sk-parallel-item:last-child::after {align-self: flex-start;width: 50%;}#sk-container-id-1 div.sk-parallel-item:only-child::after {width: 0;}#sk-container-id-1 div.sk-dashed-wrapped {border: 1px dashed gray;margin: 0 0.4em 0.5em 0.4em;box-sizing: border-box;padding-bottom: 0.4em;background-color: white;}#sk-container-id-1 div.sk-label label {font-family: monospace;font-weight: bold;display: inline-block;line-height: 1.2em;}#sk-container-id-1 div.sk-label-container {text-align: center;}#sk-container-id-1 div.sk-container {/* jupyter's `normalize.less` sets `[hidden] { display: none; }` but bootstrap.min.css set `[hidden] { display: none !important; }` so we also need the `!important` here to be able to override the default hidden behavior on the sphinx rendered scikit-learn.org. See: https://github.com/scikit-learn/scikit-learn/issues/21755 */display: inline-block !important;position: relative;}#sk-container-id-1 div.sk-text-repr-fallback {display: none;}</style><div id=\"sk-container-id-1\" class=\"sk-top-container\"><div class=\"sk-text-repr-fallback\"><pre>XGBClassifier(base_score=None, booster=&#x27;gbtree&#x27;, callbacks=None,\n",
       "              colsample_bylevel=None, colsample_bynode=None,\n",
       "              colsample_bytree=None, early_stopping_rounds=None,\n",
       "              enable_categorical=False, eval_metric=None, feature_types=None,\n",
       "              gamma=None, gpu_id=None, grow_policy=None, importance_type=None,\n",
       "              interaction_constraints=None, learning_rate=None, max_bin=None,\n",
       "              max_cat_threshold=None, max_cat_to_onehot=None,\n",
       "              max_delta_step=None, max_depth=None, max_leaves=None,\n",
       "              min_child_weight=None, missing=nan, monotone_constraints=None,\n",
       "              n_estimators=100, n_jobs=-1, num_parallel_tree=None,\n",
       "              objective=&#x27;binary:logistic&#x27;, predictor=None, ...)</pre><b>In a Jupyter environment, please rerun this cell to show the HTML representation or trust the notebook. <br />On GitHub, the HTML representation is unable to render, please try loading this page with nbviewer.org.</b></div><div class=\"sk-container\" hidden><div class=\"sk-item\"><div class=\"sk-estimator sk-toggleable\"><input class=\"sk-toggleable__control sk-hidden--visually\" id=\"sk-estimator-id-1\" type=\"checkbox\" checked><label for=\"sk-estimator-id-1\" class=\"sk-toggleable__label sk-toggleable__label-arrow\">XGBClassifier</label><div class=\"sk-toggleable__content\"><pre>XGBClassifier(base_score=None, booster=&#x27;gbtree&#x27;, callbacks=None,\n",
       "              colsample_bylevel=None, colsample_bynode=None,\n",
       "              colsample_bytree=None, early_stopping_rounds=None,\n",
       "              enable_categorical=False, eval_metric=None, feature_types=None,\n",
       "              gamma=None, gpu_id=None, grow_policy=None, importance_type=None,\n",
       "              interaction_constraints=None, learning_rate=None, max_bin=None,\n",
       "              max_cat_threshold=None, max_cat_to_onehot=None,\n",
       "              max_delta_step=None, max_depth=None, max_leaves=None,\n",
       "              min_child_weight=None, missing=nan, monotone_constraints=None,\n",
       "              n_estimators=100, n_jobs=-1, num_parallel_tree=None,\n",
       "              objective=&#x27;binary:logistic&#x27;, predictor=None, ...)</pre></div></div></div></div></div>"
      ],
      "text/plain": [
       "XGBClassifier(base_score=None, booster='gbtree', callbacks=None,\n",
       "              colsample_bylevel=None, colsample_bynode=None,\n",
       "              colsample_bytree=None, early_stopping_rounds=None,\n",
       "              enable_categorical=False, eval_metric=None, feature_types=None,\n",
       "              gamma=None, gpu_id=None, grow_policy=None, importance_type=None,\n",
       "              interaction_constraints=None, learning_rate=None, max_bin=None,\n",
       "              max_cat_threshold=None, max_cat_to_onehot=None,\n",
       "              max_delta_step=None, max_depth=None, max_leaves=None,\n",
       "              min_child_weight=None, missing=nan, monotone_constraints=None,\n",
       "              n_estimators=100, n_jobs=-1, num_parallel_tree=None,\n",
       "              objective='binary:logistic', predictor=None, ...)"
      ]
     },
     "execution_count": 27,
     "metadata": {},
     "output_type": "execute_result"
    }
   ],
   "source": [
    "bestModel_featureImp"
   ]
  },
  {
   "cell_type": "code",
   "execution_count": 28,
   "metadata": {
    "tags": []
   },
   "outputs": [],
   "source": [
    "# Tune the hyper parameters of the lightgbm model using optuna on 10 folds and optimise AUC as that was our system metric, \n",
    "# hence we will optimise AUC"
   ]
  },
  {
   "cell_type": "code",
   "execution_count": 29,
   "metadata": {},
   "outputs": [],
   "source": [
    "# Print the final models configuration so that we can use it in the model retraining pipeline "
   ]
  },
  {
   "cell_type": "code",
   "execution_count": 30,
   "metadata": {
    "tags": []
   },
   "outputs": [],
   "source": [
    "gridParams = {\n",
    "    'learning_rate': [0.005, 0.01, 0.05, 0.1],\n",
    "    'n_estimators': [8,16,24, 32],\n",
    "    'num_leaves': [6,8,12,16], # large num_leaves helps improve accuracy but might lead to over-fitting\n",
    "    'boosting_type' : ['gbdt', 'dart'], # for better accuracy -> try dart\n",
    "    'objective' : ['binary'],\n",
    "    'max_bin':[255, 510], # large max_bin helps improve accuracy but might slow down training progress\n",
    "    'random_state' : [500],\n",
    "    'colsample_bytree' : [0.64, 0.65, 0.66],\n",
    "    'subsample' : [0.7,0.75],\n",
    "    'reg_alpha' : [1,1.2],\n",
    "    'reg_lambda' : [1,1.2,1.4],\n",
    "    }"
   ]
  },
  {
   "cell_type": "code",
   "execution_count": 31,
   "metadata": {
    "tags": []
   },
   "outputs": [],
   "source": [
    "# A parameter grid for XGBoost\n",
    "params = {\n",
    "        'min_child_weight': [1, 5, 10],\n",
    "        'gamma': [0.5, 1, 1.5, 2, 5],\n",
    "        'subsample': [0.6, 0.8, 1.0],\n",
    "        'colsample_bytree': [0.6, 0.8, 1.0],\n",
    "        'max_depth': [3, 4, 5]\n",
    "        }"
   ]
  },
  {
   "cell_type": "code",
   "execution_count": 32,
   "metadata": {
    "tags": []
   },
   "outputs": [
    {
     "name": "stdout",
     "output_type": "stream",
     "text": [
      "Help on function tune_model in module pycaret.classification.functional:\n",
      "\n",
      "tune_model(estimator, fold: Union[int, Any, NoneType] = None, round: int = 4, n_iter: int = 10, custom_grid: Union[Dict[str, list], Any, NoneType] = None, optimize: str = 'Accuracy', custom_scorer=None, search_library: str = 'scikit-learn', search_algorithm: Optional[str] = None, early_stopping: Any = False, early_stopping_max_iters: int = 10, choose_better: bool = True, fit_kwargs: Optional[dict] = None, groups: Union[str, Any, NoneType] = None, return_tuner: bool = False, verbose: bool = True, tuner_verbose: Union[int, bool] = True, return_train_score: bool = False, **kwargs) -> Any\n",
      "    This function tunes the hyperparameters of a given estimator. The output of\n",
      "    this function is a score grid with CV scores by fold of the best selected\n",
      "    model based on ``optimize`` parameter. Metrics evaluated during CV can be\n",
      "    accessed using the ``get_metrics`` function. Custom metrics can be added\n",
      "    or removed using ``add_metric`` and ``remove_metric`` function.\n",
      "    \n",
      "    Example\n",
      "    -------\n",
      "    >>> from pycaret.datasets import get_data\n",
      "    >>> juice = get_data('juice')\n",
      "    >>> from pycaret.classification import *\n",
      "    >>> exp_name = setup(data = juice,  target = 'Purchase')\n",
      "    >>> lr = create_model('lr')\n",
      "    >>> tuned_lr = tune_model(lr)\n",
      "    \n",
      "    \n",
      "    estimator: scikit-learn compatible object\n",
      "        Trained model object\n",
      "    \n",
      "    \n",
      "    fold: int or scikit-learn compatible CV generator, default = None\n",
      "        Controls cross-validation. If None, the CV generator in the ``fold_strategy``\n",
      "        parameter of the ``setup`` function is used. When an integer is passed,\n",
      "        it is interpreted as the 'n_splits' parameter of the CV generator in the\n",
      "        ``setup`` function.\n",
      "    \n",
      "    \n",
      "    round: int, default = 4\n",
      "        Number of decimal places the metrics in the score grid will be rounded to.\n",
      "    \n",
      "    \n",
      "    n_iter: int, default = 10\n",
      "        Number of iterations in the grid search. Increasing 'n_iter' may improve\n",
      "        model performance but also increases the training time.\n",
      "    \n",
      "    \n",
      "    custom_grid: dictionary, default = None\n",
      "        To define custom search space for hyperparameters, pass a dictionary with\n",
      "        parameter name and values to be iterated. Custom grids must be in a format\n",
      "        supported by the defined ``search_library``.\n",
      "    \n",
      "    \n",
      "    optimize: str, default = 'Accuracy'\n",
      "        Metric name to be evaluated for hyperparameter tuning. It also accepts custom\n",
      "        metrics that are added through the ``add_metric`` function.\n",
      "    \n",
      "    \n",
      "    custom_scorer: object, default = None\n",
      "        custom scoring strategy can be passed to tune hyperparameters of the model.\n",
      "        It must be created using ``sklearn.make_scorer``. It is equivalent of adding\n",
      "        custom metric using the ``add_metric`` function and passing the name of the\n",
      "        custom metric in the ``optimize`` parameter.\n",
      "        Will be deprecated in future.\n",
      "    \n",
      "    \n",
      "    search_library: str, default = 'scikit-learn'\n",
      "        The search library used for tuning hyperparameters. Possible values:\n",
      "    \n",
      "        - 'scikit-learn' - default, requires no further installation\n",
      "            https://github.com/scikit-learn/scikit-learn\n",
      "    \n",
      "        - 'scikit-optimize' - ``pip install scikit-optimize``\n",
      "            https://scikit-optimize.github.io/stable/\n",
      "    \n",
      "        - 'tune-sklearn' - ``pip install tune-sklearn ray[tune]``\n",
      "            https://github.com/ray-project/tune-sklearn\n",
      "    \n",
      "        - 'optuna' - ``pip install optuna``\n",
      "            https://optuna.org/\n",
      "    \n",
      "    \n",
      "    search_algorithm: str, default = None\n",
      "        The search algorithm depends on the ``search_library`` parameter.\n",
      "        Some search algorithms require additional libraries to be installed.\n",
      "        If None, will use search library-specific default algorithm.\n",
      "    \n",
      "        - 'scikit-learn' possible values:\n",
      "            - 'random' : random grid search (default)\n",
      "            - 'grid' : grid search\n",
      "    \n",
      "        - 'scikit-optimize' possible values:\n",
      "            - 'bayesian' : Bayesian search (default)\n",
      "    \n",
      "        - 'tune-sklearn' possible values:\n",
      "            - 'random' : random grid search (default)\n",
      "            - 'grid' : grid search\n",
      "            - 'bayesian' : ``pip install scikit-optimize``\n",
      "            - 'hyperopt' : ``pip install hyperopt``\n",
      "            - 'optuna' : ``pip install optuna``\n",
      "            - 'bohb' : ``pip install hpbandster ConfigSpace``\n",
      "    \n",
      "        - 'optuna' possible values:\n",
      "            - 'random' : randomized search\n",
      "            - 'tpe' : Tree-structured Parzen Estimator search (default)\n",
      "    \n",
      "    \n",
      "    early_stopping: bool or str or object, default = False\n",
      "        Use early stopping to stop fitting to a hyperparameter configuration\n",
      "        if it performs poorly. Ignored when ``search_library`` is scikit-learn,\n",
      "        or if the estimator does not have 'partial_fit' attribute. If False or\n",
      "        None, early stopping will not be used. Can be either an object accepted\n",
      "        by the search library or one of the following:\n",
      "    \n",
      "        - 'asha' for Asynchronous Successive Halving Algorithm\n",
      "        - 'hyperband' for Hyperband\n",
      "        - 'median' for Median Stopping Rule\n",
      "        - If False or None, early stopping will not be used.\n",
      "    \n",
      "    \n",
      "    early_stopping_max_iters: int, default = 10\n",
      "        Maximum number of epochs to run for each sampled configuration.\n",
      "        Ignored if ``early_stopping`` is False or None.\n",
      "    \n",
      "    \n",
      "    choose_better: bool, default = True\n",
      "        When set to True, the returned object is always better performing. The\n",
      "        metric used for comparison is defined by the ``optimize`` parameter.\n",
      "    \n",
      "    \n",
      "    fit_kwargs: dict, default = {} (empty dict)\n",
      "        Dictionary of arguments passed to the fit method of the tuner.\n",
      "    \n",
      "    \n",
      "    groups: str or array-like, with shape (n_samples,), default = None\n",
      "        Optional group labels when GroupKFold is used for the cross validation.\n",
      "        It takes an array with shape (n_samples, ) where n_samples is the number\n",
      "        of rows in training dataset. When string is passed, it is interpreted as\n",
      "        the column name in the dataset containing group labels.\n",
      "    \n",
      "    \n",
      "    return_tuner: bool, default = False\n",
      "        When set to True, will return a tuple of (model, tuner_object).\n",
      "    \n",
      "    \n",
      "    verbose: bool, default = True\n",
      "        Score grid is not printed when verbose is set to False.\n",
      "    \n",
      "    \n",
      "    tuner_verbose: bool or in, default = True\n",
      "        If True or above 0, will print messages from the tuner. Higher values\n",
      "        print more messages. Ignored when ``verbose`` param is False.\n",
      "    \n",
      "    \n",
      "    return_train_score: bool, default = False\n",
      "        If False, returns the CV Validation scores only.\n",
      "        If True, returns the CV training scores along with the CV validation scores.\n",
      "        This is useful when the user wants to do bias-variance tradeoff. A high CV\n",
      "        training score with a low corresponding CV validation score indicates overfitting.\n",
      "    \n",
      "    \n",
      "    **kwargs:\n",
      "        Additional keyword arguments to pass to the optimizer.\n",
      "    \n",
      "    \n",
      "    Returns:\n",
      "        Trained Model and Optional Tuner Object when ``return_tuner`` is True.\n",
      "    \n",
      "    \n",
      "    Warnings\n",
      "    --------\n",
      "    - Using 'grid' as ``search_algorithm`` may result in very long computation.\n",
      "      Only recommended with smaller search spaces that can be defined in the\n",
      "      ``custom_grid`` parameter.\n",
      "    \n",
      "    - ``search_library`` 'tune-sklearn' does not support GPU models.\n",
      "\n"
     ]
    }
   ],
   "source": [
    "help(tune_model)"
   ]
  },
  {
   "cell_type": "code",
   "execution_count": 33,
   "metadata": {
    "tags": []
   },
   "outputs": [],
   "source": [
    "tuned_lgbm = tune_model(bestModel_featureImp, optimize=\"AUC\", fold=10, n_iter=50, verbose=False, custom_grid=params, error_score=\"raise\")"
   ]
  },
  {
   "cell_type": "code",
   "execution_count": 34,
   "metadata": {
    "tags": []
   },
   "outputs": [],
   "source": [
    "tuned_model = tuned_lgbm"
   ]
  },
  {
   "cell_type": "code",
   "execution_count": null,
   "metadata": {
    "tags": []
   },
   "outputs": [],
   "source": [
    "pip install shap"
   ]
  },
  {
   "cell_type": "code",
   "execution_count": 29,
   "metadata": {
    "tags": []
   },
   "outputs": [
    {
     "data": {
      "image/png": "[encoded data removed]",
      "text/plain": [
       "<Figure size 800x950 with 2 Axes>"
      ]
     },
     "metadata": {},
     "output_type": "display_data"
    }
   ],
   "source": [
    "# interpret model\n",
    "interpret_model(tuned_model)"
   ]
  },
  {
   "cell_type": "code",
   "execution_count": 30,
   "metadata": {
    "tags": []
   },
   "outputs": [
    {
     "name": "stdout",
     "output_type": "stream",
     "text": [
      "Transformation Pipeline and Model Successfully Saved\n"
     ]
    },
    {
     "data": {
      "text/plain": [
       "(Pipeline(memory=FastMemory(location=/tmp/joblib),\n",
       "          steps=[('numerical_imputer',\n",
       "                  TransformerWrapper(exclude=None,\n",
       "                                     include=['total_leads_droppped',\n",
       "                                              'city_tier', 'referred_lead'],\n",
       "                                     transformer=SimpleImputer(add_indicator=False,\n",
       "                                                               copy=True,\n",
       "                                                               fill_value=None,\n",
       "                                                               keep_empty_features=False,\n",
       "                                                               missing_values=nan,\n",
       "                                                               strategy='mean',\n",
       "                                                               verbose='deprecated'))),\n",
       "                 ('categorical_imputer',...\n",
       "                                grow_policy=None, importance_type=None,\n",
       "                                interaction_constraints=None, learning_rate=None,\n",
       "                                max_bin=None, max_cat_threshold=None,\n",
       "                                max_cat_to_onehot=None, max_delta_step=None,\n",
       "                                max_depth=5, max_leaves=None, min_child_weight=1,\n",
       "                                missing=nan, monotone_constraints=None,\n",
       "                                n_estimators=100, n_jobs=-1,\n",
       "                                num_parallel_tree=None,\n",
       "                                objective='binary:logistic', predictor=None, ...))],\n",
       "          verbose=False),\n",
       " 'bestModelAfterTuning.pkl')"
      ]
     },
     "execution_count": 30,
     "metadata": {},
     "output_type": "execute_result"
    }
   ],
   "source": [
    "save_model(tuned_model, \"bestModelAfterTuning\")"
   ]
  },
  {
   "cell_type": "code",
   "execution_count": null,
   "metadata": {},
   "outputs": [],
   "source": []
  }
 ],
 "metadata": {
  "accelerator": "GPU",
  "colab": {
   "collapsed_sections": [],
   "name": "Model-AfterFeature.ipynb",
   "provenance": []
  },
  "kernelspec": {
   "display_name": "Python 3 (ipykernel)",
   "language": "python",
   "name": "python3"
  },
  "language_info": {
   "codemirror_mode": {
    "name": "ipython",
    "version": 3
   },
   "file_extension": ".py",
   "mimetype": "text/x-python",
   "name": "python",
   "nbconvert_exporter": "python",
   "pygments_lexer": "ipython3",
   "version": "3.10.10"
  },
  "vscode": {
   "interpreter": {
    "hash": "7cd94b908b2292e9d2da2e5e75d12d6a294435c608eaff704093f5bae14b723d"
   }
  },
  "widgets": {
   "application/vnd.jupyter.widget-state+json": {
    "144f839f29354f668dda71aa605216ce": {
     "model_module": "@jupyter-widgets/controls",
     "model_module_version": "1.5.0",
     "model_name": "IntProgressModel",
     "state": {
      "_dom_classes": [],
      "_model_module": "@jupyter-widgets/controls",
      "_model_module_version": "1.5.0",
      "_model_name": "IntProgressModel",
      "_view_count": null,
      "_view_module": "@jupyter-widgets/controls",
      "_view_module_version": "1.5.0",
      "_view_name": "ProgressView",
      "bar_style": "",
      "description": "Processing: ",
      "description_tooltip": null,
      "layout": "IPY_MODEL_383709fd8fda47ceadbf243d18428cf8",
      "max": 74,
      "min": 0,
      "orientation": "horizontal",
      "style": "IPY_MODEL_898da34f06fa4fd3be6fc028d246a379",
      "value": 74
     }
    },
    "383709fd8fda47ceadbf243d18428cf8": {
     "model_module": "@jupyter-widgets/base",
     "model_module_version": "1.2.0",
     "model_name": "LayoutModel",
     "state": {
      "_model_module": "@jupyter-widgets/base",
      "_model_module_version": "1.2.0",
      "_model_name": "LayoutModel",
      "_view_count": null,
      "_view_module": "@jupyter-widgets/base",
      "_view_module_version": "1.2.0",
      "_view_name": "LayoutView",
      "align_content": null,
      "align_items": null,
      "align_self": null,
      "border": null,
      "bottom": null,
      "display": null,
      "flex": null,
      "flex_flow": null,
      "grid_area": null,
      "grid_auto_columns": null,
      "grid_auto_flow": null,
      "grid_auto_rows": null,
      "grid_column": null,
      "grid_gap": null,
      "grid_row": null,
      "grid_template_areas": null,
      "grid_template_columns": null,
      "grid_template_rows": null,
      "height": null,
      "justify_content": null,
      "justify_items": null,
      "left": null,
      "margin": null,
      "max_height": null,
      "max_width": null,
      "min_height": null,
      "min_width": null,
      "object_fit": null,
      "object_position": null,
      "order": null,
      "overflow": null,
      "overflow_x": null,
      "overflow_y": null,
      "padding": null,
      "right": null,
      "top": null,
      "visibility": null,
      "width": null
     }
    },
    "8239e3c9a1714d16a804cdf4239ec7f3": {
     "model_module": "@jupyter-widgets/controls",
     "model_module_version": "1.5.0",
     "model_name": "ProgressStyleModel",
     "state": {
      "_model_module": "@jupyter-widgets/controls",
      "_model_module_version": "1.5.0",
      "_model_name": "ProgressStyleModel",
      "_view_count": null,
      "_view_module": "@jupyter-widgets/base",
      "_view_module_version": "1.2.0",
      "_view_name": "StyleView",
      "bar_color": null,
      "description_width": ""
     }
    },
    "898da34f06fa4fd3be6fc028d246a379": {
     "model_module": "@jupyter-widgets/controls",
     "model_module_version": "1.5.0",
     "model_name": "ProgressStyleModel",
     "state": {
      "_model_module": "@jupyter-widgets/controls",
      "_model_module_version": "1.5.0",
      "_model_name": "ProgressStyleModel",
      "_view_count": null,
      "_view_module": "@jupyter-widgets/base",
      "_view_module_version": "1.2.0",
      "_view_name": "StyleView",
      "bar_color": null,
      "description_width": ""
     }
    },
    "94fbf501ef6e499387332ad398f2d3ff": {
     "model_module": "@jupyter-widgets/base",
     "model_module_version": "1.2.0",
     "model_name": "LayoutModel",
     "state": {
      "_model_module": "@jupyter-widgets/base",
      "_model_module_version": "1.2.0",
      "_model_name": "LayoutModel",
      "_view_count": null,
      "_view_module": "@jupyter-widgets/base",
      "_view_module_version": "1.2.0",
      "_view_name": "LayoutView",
      "align_content": null,
      "align_items": null,
      "align_self": null,
      "border": null,
      "bottom": null,
      "display": null,
      "flex": null,
      "flex_flow": null,
      "grid_area": null,
      "grid_auto_columns": null,
      "grid_auto_flow": null,
      "grid_auto_rows": null,
      "grid_column": null,
      "grid_gap": null,
      "grid_row": null,
      "grid_template_areas": null,
      "grid_template_columns": null,
      "grid_template_rows": null,
      "height": null,
      "justify_content": null,
      "justify_items": null,
      "left": null,
      "margin": null,
      "max_height": null,
      "max_width": null,
      "min_height": null,
      "min_width": null,
      "object_fit": null,
      "object_position": null,
      "order": null,
      "overflow": null,
      "overflow_x": null,
      "overflow_y": null,
      "padding": null,
      "right": null,
      "top": null,
      "visibility": null,
      "width": null
     }
    },
    "9e278bc3113d41398166df961701e9fb": {
     "model_module": "@jupyter-widgets/controls",
     "model_module_version": "1.5.0",
     "model_name": "IntProgressModel",
     "state": {
      "_dom_classes": [],
      "_model_module": "@jupyter-widgets/controls",
      "_model_module_version": "1.5.0",
      "_model_name": "IntProgressModel",
      "_view_count": null,
      "_view_module": "@jupyter-widgets/controls",
      "_view_module_version": "1.5.0",
      "_view_name": "ProgressView",
      "bar_style": "",
      "description": "Processing: ",
      "description_tooltip": null,
      "layout": "IPY_MODEL_a048df655c51475fb7369eb70702a575",
      "max": 4,
      "min": 0,
      "orientation": "horizontal",
      "style": "IPY_MODEL_e52bcc4a1c3046bfb9e88d9e2d2218dd",
      "value": 4
     }
    },
    "a048df655c51475fb7369eb70702a575": {
     "model_module": "@jupyter-widgets/base",
     "model_module_version": "1.2.0",
     "model_name": "LayoutModel",
     "state": {
      "_model_module": "@jupyter-widgets/base",
      "_model_module_version": "1.2.0",
      "_model_name": "LayoutModel",
      "_view_count": null,
      "_view_module": "@jupyter-widgets/base",
      "_view_module_version": "1.2.0",
      "_view_name": "LayoutView",
      "align_content": null,
      "align_items": null,
      "align_self": null,
      "border": null,
      "bottom": null,
      "display": null,
      "flex": null,
      "flex_flow": null,
      "grid_area": null,
      "grid_auto_columns": null,
      "grid_auto_flow": null,
      "grid_auto_rows": null,
      "grid_column": null,
      "grid_gap": null,
      "grid_row": null,
      "grid_template_areas": null,
      "grid_template_columns": null,
      "grid_template_rows": null,
      "height": null,
      "justify_content": null,
      "justify_items": null,
      "left": null,
      "margin": null,
      "max_height": null,
      "max_width": null,
      "min_height": null,
      "min_width": null,
      "object_fit": null,
      "object_position": null,
      "order": null,
      "overflow": null,
      "overflow_x": null,
      "overflow_y": null,
      "padding": null,
      "right": null,
      "top": null,
      "visibility": null,
      "width": null
     }
    },
    "a18be2b61ba5486e9c132f9e5aa0e09e": {
     "model_module": "@jupyter-widgets/controls",
     "model_module_version": "1.5.0",
     "model_name": "IntProgressModel",
     "state": {
      "_dom_classes": [],
      "_model_module": "@jupyter-widgets/controls",
      "_model_module_version": "1.5.0",
      "_model_name": "IntProgressModel",
      "_view_count": null,
      "_view_module": "@jupyter-widgets/controls",
      "_view_module_version": "1.5.0",
      "_view_name": "ProgressView",
      "bar_style": "",
      "description": "Processing: ",
      "description_tooltip": null,
      "layout": "IPY_MODEL_94fbf501ef6e499387332ad398f2d3ff",
      "max": 3,
      "min": 0,
      "orientation": "horizontal",
      "style": "IPY_MODEL_8239e3c9a1714d16a804cdf4239ec7f3",
      "value": 3
     }
    },
    "e52bcc4a1c3046bfb9e88d9e2d2218dd": {
     "model_module": "@jupyter-widgets/controls",
     "model_module_version": "1.5.0",
     "model_name": "ProgressStyleModel",
     "state": {
      "_model_module": "@jupyter-widgets/controls",
      "_model_module_version": "1.5.0",
      "_model_name": "ProgressStyleModel",
      "_view_count": null,
      "_view_module": "@jupyter-widgets/base",
      "_view_module_version": "1.2.0",
      "_view_name": "StyleView",
      "bar_color": null,
      "description_width": ""
     }
    }
   }
  }
 },
 "nbformat": 4,
 "nbformat_minor": 4
}
